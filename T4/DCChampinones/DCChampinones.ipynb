{
 "cells": [
  {
   "cell_type": "markdown",
   "metadata": {},
   "source": [
    "Pontificia Universidad Católica de Chile\\\n",
    "Facultad de Ingeniería\\\n",
    "IIC2613 - Inteligencia Artificial\\\n",
    "2024-2"
   ]
  },
  {
   "cell_type": "markdown",
   "metadata": {},
   "source": [
    "---"
   ]
  },
  {
   "cell_type": "markdown",
   "metadata": {},
   "source": [
    "<div style=\"text-align: center;\">\n",
    "  <h2>Tarea 4</h2>\n",
    "  <h1>Aprendizaje de Máquina</h1>\n",
    "  <h2>DCChampiñones</h2>\n",
    "  <p>Fecha de entrega: martes 5 de noviembre a las 23:59 hrs.\n",
    "</div>"
   ]
  },
  {
   "cell_type": "markdown",
   "metadata": {},
   "source": [
    "---"
   ]
  },
  {
   "cell_type": "markdown",
   "metadata": {},
   "source": [
    "<div style=\"text-align: center;\">\n",
    "  <h3>Nombre: Vicente Antonio Lavagnino Gatica</h3>\n",
    "  <h3>Número de alumno: 21638322</h3>\n",
    "</div>"
   ]
  },
  {
   "cell_type": "markdown",
   "metadata": {},
   "source": [
    "---"
   ]
  },
  {
   "cell_type": "markdown",
   "metadata": {},
   "source": [
    "### Librerías a utilizar"
   ]
  },
  {
   "cell_type": "code",
   "execution_count": 2,
   "metadata": {},
   "outputs": [],
   "source": [
    "'''\n",
    "pd (pandas)\n",
    "Documentación disponible en: https://pandas.pydata.org/docs/reference/index.html#api\n",
    "'''\n",
    "import pandas as pd # Manejo del dataset\n",
    "\n",
    "# -----------------------------------------------------------------------------------------------\n",
    "\n",
    "'''\n",
    "np (numpy)\n",
    "Documentación disponible en: https://numpy.org/doc/2.1/reference/index.html#reference\n",
    "'''\n",
    "import numpy as np # Manejo del dataset\n",
    "\n",
    "# -----------------------------------------------------------------------------------------------\n",
    "\n",
    "'''\n",
    "sklearn (scikit-learn)\n",
    "Documentación disponible en: https://scikit-learn.org/dev/api/index.html\n",
    "'''\n",
    "from sklearn.model_selection import train_test_split # Separación del dataset en 'train' y 'test'\n",
    "from sklearn.preprocessing import OneHotEncoder, StandardScaler # Preprocesamiento del dataset\n",
    "from sklearn.neighbors import KNeighborsClassifier # Clasificador KNN\n",
    "from sklearn import tree # Clasificador Decision Tree\n",
    "from sklearn.ensemble import RandomForestClassifier # Clasificador Random Forest\n",
    "from sklearn.svm import SVC # Clasificador SVM\n",
    "from sklearn.metrics import classification_report, confusion_matrix # Métricas de evaluación\n",
    "\n",
    "# -----------------------------------------------------------------------------------------------\n",
    "\n",
    "'''\n",
    "plt (matplotlib)\n",
    "Documentación disponible en: https://matplotlib.org/stable/api/index.html\n",
    "'''\n",
    "from matplotlib import pyplot as plt # Gráficos\n",
    "\n",
    "# -----------------------------------------------------------------------------------------------\n",
    "\n",
    "'''\n",
    "sns (seaborn)\n",
    "Documentación disponible en: https://seaborn.pydata.org/api.html\n",
    "'''\n",
    "import seaborn as sns # Gráficos"
   ]
  },
  {
   "cell_type": "markdown",
   "metadata": {},
   "source": [
    "**IMPORTANTE**: estas son las librerías permitidas para esta parte de la Tarea 4. El uso de cualquier otra librería debe ser debidamente justificado, y *puede no ser aceptado por el cuerpo docente del curso*."
   ]
  },
  {
   "cell_type": "markdown",
   "metadata": {},
   "source": [
    "---\n",
    "---"
   ]
  },
  {
   "cell_type": "markdown",
   "metadata": {},
   "source": [
    "<div style=\"text-align: center;\">\n",
    "  <h2>Actividades a realizar</h2>\n",
    "</div>"
   ]
  },
  {
   "cell_type": "markdown",
   "metadata": {},
   "source": [
    "---\n",
    "---"
   ]
  },
  {
   "cell_type": "markdown",
   "metadata": {},
   "source": [
    "<div style=\"text-align: center;\">\n",
    "  <h3>Preprocesamiento del dataset</h3>\n",
    "</div>"
   ]
  },
  {
   "cell_type": "markdown",
   "metadata": {},
   "source": [
    "---"
   ]
  },
  {
   "cell_type": "markdown",
   "metadata": {},
   "source": [
    "Lee la información contenida en el archivo **mushroom.csv**. Una vez que la información esté cargada, comenta sobre los elementos que contiene y su naturaleza. Para esto, responde al menos a estas preguntas: ¿Cuántos datos hay? ¿Cuántos atrbiutos hay y cuáles son? ¿A qué tipo de dato corresponde cada atributo? ¿Cuál es la columna que queremos predecir? ¿Cómo se ve la distribución de las clases a predecir? Para entenderlos de mejor manera, es muy útil visualizar los datos con gráficos. Para esto te pediremos que hagas al menos un gráfico para la distribución de las clases."
   ]
  },
  {
   "cell_type": "code",
   "execution_count": 3,
   "metadata": {},
   "outputs": [
    {
     "data": {
      "text/html": [
       "<div>\n",
       "<style scoped>\n",
       "    .dataframe tbody tr th:only-of-type {\n",
       "        vertical-align: middle;\n",
       "    }\n",
       "\n",
       "    .dataframe tbody tr th {\n",
       "        vertical-align: top;\n",
       "    }\n",
       "\n",
       "    .dataframe thead th {\n",
       "        text-align: right;\n",
       "    }\n",
       "</style>\n",
       "<table border=\"1\" class=\"dataframe\">\n",
       "  <thead>\n",
       "    <tr style=\"text-align: right;\">\n",
       "      <th></th>\n",
       "      <th>cap-diameter</th>\n",
       "      <th>cap-shape</th>\n",
       "      <th>gill-attachment</th>\n",
       "      <th>gill-color</th>\n",
       "      <th>stem-height</th>\n",
       "      <th>stem-width</th>\n",
       "      <th>stem-color</th>\n",
       "      <th>season</th>\n",
       "      <th>class</th>\n",
       "    </tr>\n",
       "  </thead>\n",
       "  <tbody>\n",
       "    <tr>\n",
       "      <th>0</th>\n",
       "      <td>1372</td>\n",
       "      <td>2</td>\n",
       "      <td>2</td>\n",
       "      <td>10</td>\n",
       "      <td>3.807467</td>\n",
       "      <td>1545</td>\n",
       "      <td>11</td>\n",
       "      <td>1.804273</td>\n",
       "      <td>1</td>\n",
       "    </tr>\n",
       "    <tr>\n",
       "      <th>1</th>\n",
       "      <td>1461</td>\n",
       "      <td>2</td>\n",
       "      <td>2</td>\n",
       "      <td>10</td>\n",
       "      <td>3.807467</td>\n",
       "      <td>1557</td>\n",
       "      <td>11</td>\n",
       "      <td>1.804273</td>\n",
       "      <td>1</td>\n",
       "    </tr>\n",
       "    <tr>\n",
       "      <th>2</th>\n",
       "      <td>1371</td>\n",
       "      <td>2</td>\n",
       "      <td>2</td>\n",
       "      <td>10</td>\n",
       "      <td>3.612496</td>\n",
       "      <td>1566</td>\n",
       "      <td>11</td>\n",
       "      <td>1.804273</td>\n",
       "      <td>1</td>\n",
       "    </tr>\n",
       "    <tr>\n",
       "      <th>3</th>\n",
       "      <td>1261</td>\n",
       "      <td>6</td>\n",
       "      <td>2</td>\n",
       "      <td>10</td>\n",
       "      <td>3.787572</td>\n",
       "      <td>1566</td>\n",
       "      <td>11</td>\n",
       "      <td>1.804273</td>\n",
       "      <td>1</td>\n",
       "    </tr>\n",
       "    <tr>\n",
       "      <th>4</th>\n",
       "      <td>1305</td>\n",
       "      <td>6</td>\n",
       "      <td>2</td>\n",
       "      <td>10</td>\n",
       "      <td>3.711971</td>\n",
       "      <td>1464</td>\n",
       "      <td>11</td>\n",
       "      <td>0.943195</td>\n",
       "      <td>1</td>\n",
       "    </tr>\n",
       "  </tbody>\n",
       "</table>\n",
       "</div>"
      ],
      "text/plain": [
       "   cap-diameter  cap-shape  gill-attachment  gill-color  stem-height  \\\n",
       "0          1372          2                2          10     3.807467   \n",
       "1          1461          2                2          10     3.807467   \n",
       "2          1371          2                2          10     3.612496   \n",
       "3          1261          6                2          10     3.787572   \n",
       "4          1305          6                2          10     3.711971   \n",
       "\n",
       "   stem-width  stem-color    season  class  \n",
       "0        1545          11  1.804273      1  \n",
       "1        1557          11  1.804273      1  \n",
       "2        1566          11  1.804273      1  \n",
       "3        1566          11  1.804273      1  \n",
       "4        1464          11  0.943195      1  "
      ]
     },
     "execution_count": 3,
     "metadata": {},
     "output_type": "execute_result"
    }
   ],
   "source": [
    "# Abrimos el dataset\n",
    "data = pd.read_csv('mushroom.csv')\n",
    "# Mostramos las primeras 5 filas\n",
    "data.head()"
   ]
  },
  {
   "cell_type": "code",
   "execution_count": 4,
   "metadata": {},
   "outputs": [
    {
     "name": "stdout",
     "output_type": "stream",
     "text": [
      "El dataset tiene 54035 filas y 9 columnas\n",
      "El dataset tiene 9 atributos, los cuales son:\n",
      "<class 'pandas.core.frame.DataFrame'>\n",
      "RangeIndex: 54035 entries, 0 to 54034\n",
      "Data columns (total 9 columns):\n",
      " #   Column           Non-Null Count  Dtype  \n",
      "---  ------           --------------  -----  \n",
      " 0   cap-diameter     54035 non-null  int64  \n",
      " 1   cap-shape        54035 non-null  int64  \n",
      " 2   gill-attachment  54035 non-null  int64  \n",
      " 3   gill-color       54035 non-null  int64  \n",
      " 4   stem-height      54035 non-null  float64\n",
      " 5   stem-width       54035 non-null  int64  \n",
      " 6   stem-color       54035 non-null  int64  \n",
      " 7   season           54035 non-null  float64\n",
      " 8   class            54035 non-null  int64  \n",
      "dtypes: float64(2), int64(7)\n",
      "memory usage: 3.7 MB\n",
      "\n",
      "Distribución de las clases:\n",
      "class\n",
      "1    29675\n",
      "0    24360\n",
      "Name: count, dtype: int64\n"
     ]
    },
    {
     "data": {
      "image/png": "[encoded data removed]",
      "text/plain": [
       "<Figure size 640x480 with 1 Axes>"
      ]
     },
     "metadata": {},
     "output_type": "display_data"
    }
   ],
   "source": [
    "# Cuántas filas y columnas tiene el dataset\n",
    "print(f\"El dataset tiene {data.shape[0]} filas y {data.shape[1]} columnas\")\n",
    "\n",
    "# Cuantos atributos hay y cuales son y que tipo de dato tienen\n",
    "print(f\"El dataset tiene {data.shape[1]} atributos, los cuales son:\")\n",
    "data.info()\n",
    "\n",
    "# Distribución de las clases\n",
    "print(\"\\nDistribución de las clases:\")\n",
    "print(data['class'].value_counts())\n",
    "\n",
    "#grafico\n",
    "sns.countplot(x='class', data=data)\n",
    "plt.show()"
   ]
  },
  {
   "cell_type": "markdown",
   "metadata": {},
   "source": [
    "**RESPUESTA**: \n",
    "\n",
    "En este data set, encontramos un total de **54,035 filas** y **9 columnas**. Las columnas incluidas y el tipo de datos son los siguientes:\n",
    "\n",
    "- `cap-diameter` - `int64`\n",
    "- `cap-shape` - `int64`\n",
    "- `gill-attachment` - `int64`\n",
    "- `gill-color` - `int64`\n",
    "- `stem-height` - `float64`\n",
    "- `stem-width` - `int64`\n",
    "- `stem-color` - `int64`\n",
    "- `season` - `float64`\n",
    "- `class` - `int64`\n",
    "\n",
    "La columna que queremos predecir es la **`class`**.\n",
    "\n",
    "La distribución de las clases para predecir se muestra a continuación:\n",
    "\n",
    "- `class = 1` : 29,675 registros\n",
    "- `class = 0` : 24,360 registros\n",
    "\n",
    "De manera gráfica podemos ver esta distribución en el gráfico ejecutado previamente.\n"
   ]
  },
  {
   "cell_type": "markdown",
   "metadata": {},
   "source": [
    "---"
   ]
  },
  {
   "cell_type": "markdown",
   "metadata": {},
   "source": [
    "A continuación debes dividir el dataset en conjuntos de entrenamiento y prueba. Justifica tu elección de las proporciones."
   ]
  },
  {
   "cell_type": "markdown",
   "metadata": {},
   "source": [
    "**RESPUESTA**: El conjunto de datos se dividió en 2 grupos, donde l 80% de los datos se utilizaron para entrenamiento y el 20% restante para pruebas. Esta división se realizó con el fin de tener un conjunto de datos de entrenamiento lo suficientemente grande para que el modelo pueda aprender de manera adecuada, y un conjunto de datos de prueba lo suficientemente grande para evaluar el rendimiento del modelo.\n",
    "\n",
    "Respecto al fundamento de esta división, se puede decir que el 80% de los datos de entrenamiento es un porcentaje comúnmente utilizado en la literatura para este tipo de problemas, y el 20% restante es un porcentaje comúnmente utilizado para el conjunto de datos de prueba.\n",
    "\n",
    "En particular se hizo referencia al siguiente artículo de las justificación: https://codificandobits.com/tutorial/como-combatir-el-overfitting/"
   ]
  },
  {
   "cell_type": "code",
   "execution_count": 33,
   "metadata": {},
   "outputs": [],
   "source": [
    "# Código inspirado en Tetik, M. E. (n.d.). Mushroom with Random Forest Classification Model [Notebook]. Kaggle. https://www.kaggle.com/code/muhammedenestetik/mushroom-with-random-forest-classification-model/notebook\n",
    "\n",
    "# Dividimos el dataset en 'train' y 'test'\n",
    "X = data.drop('class', axis=1)\n",
    "y = data['class']\n",
    "\n",
    "X_train, X_test, y_train, y_test = train_test_split(X, y, test_size=0.2, random_state=42)"
   ]
  },
  {
   "cell_type": "markdown",
   "metadata": {},
   "source": [
    "---"
   ]
  },
  {
   "cell_type": "markdown",
   "metadata": {},
   "source": [
    "Luego debes identificar datos faltantes o anómalos y decidir que hacer con ellos. Asimismo, responde a la pregunta: ¿Son todos los atributos útiles para esta tarea? Justifica, y decide que hacer con ellos. Recuerda que puedes normalizar o estandarizar las características según sea necesario."
   ]
  },
  {
   "cell_type": "markdown",
   "metadata": {},
   "source": [
    "**RESPUESTA**: Al ejecutar el código vemos que no hay datos faltantes en el dataset. Además de que los datos no presentan anomalías."
   ]
  },
  {
   "cell_type": "code",
   "execution_count": 18,
   "metadata": {},
   "outputs": [
    {
     "name": "stdout",
     "output_type": "stream",
     "text": [
      "cap-diameter       0\n",
      "cap-shape          0\n",
      "gill-attachment    0\n",
      "gill-color         0\n",
      "stem-height        0\n",
      "stem-width         0\n",
      "stem-color         0\n",
      "season             0\n",
      "class              0\n",
      "dtype: int64\n",
      "cap-diameter: [1372 1461 1371 ... 1847 1851 1885]\n",
      "cap-shape: [2 6 4 0 1 5 3]\n",
      "gill-attachment: [2 0 1 5 6 4 3]\n",
      "gill-color: [10  5  7  9  0  3 11  8  1  6  4  2]\n",
      "stem-height: [3.80746675 3.61249629 3.78757181 ... 1.95808827 1.98196221 2.01379412]\n",
      "stem-width: [1545 1557 1566 ... 3271 2738 2995]\n",
      "stem-color: [11 12  6 10  0  5  9  8  1  4  3  7  2]\n",
      "season: [1.80427271 0.94319455 0.88845029 0.02737213]\n",
      "class: [1 0]\n"
     ]
    }
   ],
   "source": [
    "# Datos faltantes\n",
    "to_fix_data = data.isnull().sum()\n",
    "print(to_fix_data) # No hay datos faltantes\n",
    "\n",
    "# Ver datos anomalos\n",
    "for column in data.columns:\n",
    "    print(f\"{column}: {data[column].unique()}\")"
   ]
  },
  {
   "cell_type": "markdown",
   "metadata": {},
   "source": [
    "---"
   ]
  },
  {
   "cell_type": "markdown",
   "metadata": {},
   "source": [
    "Para terminar el preprocesamiento, debes convertir variables categóricas a numéricas. Primero responde a la siguiente pregunta: ¿Por qué queremos hacer esta conversión? ¿Cuáles son las columnas que debemos convertir? Luego, decide que método utilizaras para cada una y justifica."
   ]
  },
  {
   "cell_type": "markdown",
   "metadata": {},
   "source": [
    "**RESPUESTA**: Convertir variables categóricas a numéricas es necesario para que los algoritmos de aprendizaje automático puedan trabajar con ellas, esto debido a que en términos de efiencia y simplicidad, los algoritmos de aprendizaje automático trabajan mejor con datos numéricos. \n",
    "\n",
    "Para convertir las variables se utilizará el método de `OneHotEncoder` para las columnas del tipo `object`, sin emargo si vemos el tipo de datos de las columnas, todas son de tipo `int64` o `float64`, por lo que no es necesario realizar esta conversión.\n",
    "\n",
    "De esta forma haremos el código de manera general por si es necesario en el futuro agregar columnas de tipo `object`, sin embargo, no se realizará ninguna conversión en este caso.\n",
    "\n",
    "Lo anterior se confirma al revisar la fuente de los datos donde se menciona \"This dataset is a cleaned version of the original Mushroom Dataset for Binary Classification Available at UCI Library. This dataset was cleaned using various techniques such as Modal imputation, one-hot encoding, z-score normalization, and feature selection. It contains 9 columns\" (https://www.kaggle.com/datasets/prishasawhney/mushroom-dataset/data)"
   ]
  },
  {
   "cell_type": "code",
   "execution_count": null,
   "metadata": {},
   "outputs": [],
   "source": [
    "# Preprocesamiento de variables categóricas\n",
    "\n",
    "# OneHotEncoder\n",
    "categorical_cols = data.select_dtypes(include=['object']).columns\n",
    "\n",
    "if len(categorical_cols) > 0:\n",
    "    for col in categorical_cols:\n",
    "        encoder = OneHotEncoder()\n",
    "        encoded_data = encoder.fit_transform(data[categorical_cols])\n",
    "        encoded_df = pd.DataFrame(encoded_data, columns=encoded_columns)\n",
    "        data = pd.concat([data.drop(columns=categorical_cols), encoded_df], axis=1)\n",
    "\n",
    "# Visualizamos el dataset\n",
    "print(data.head())"
   ]
  },
  {
   "cell_type": "markdown",
   "metadata": {},
   "source": [
    "---"
   ]
  },
  {
   "cell_type": "markdown",
   "metadata": {},
   "source": [
    "<div style=\"text-align: center;\">\n",
    "  <h3>Implementación de algoritmos de machine learning</h3>\n",
    "</div>"
   ]
  },
  {
   "cell_type": "markdown",
   "metadata": {},
   "source": [
    "---"
   ]
  },
  {
   "cell_type": "markdown",
   "metadata": {},
   "source": [
    "A continuación debes elegir al menos tres algoritmos de aprendizaje de máquinas vistos en clases y entrenar dichos modelos para resolver esta tarea. Recuerda que cada uno de estos algoritmos tiene sus respectivos\n",
    "hiperparámetros, por lo que debes seleccionar un conjunto de ellos para cada uno y justificar debidamente la elección"
   ]
  },
  {
   "cell_type": "markdown",
   "metadata": {},
   "source": [
    "**RESPUESTA**: Vemos que según las importaciones planteadas al inicio del documento, podemos utilizar los siguientes algoritmos:\n",
    "- `from sklearn.neighbors import KNeighborsClassifier # Clasificador KNN`\n",
    "- `from sklearn import tree # Clasificador Decision Tree`\n",
    "- `from sklearn.ensemble import RandomForestClassifier # Clasificador Random Forest`\n",
    "- `from sklearn.svm import SVC # Clasificador SVM`\n",
    "\n",
    "Por lo que para este caso usaremos los siguientes algoritmos:\n",
    "- Decision Tree\n",
    "- Random Forest\n",
    "- KNeighborsClassifier\n",
    "\n",
    "\n",
    "**Primer modelo escogido**: El primer modelo elegido corresponde a un arbol de decisión. Se escogió este modelo debido a que es un modelo simple y fácil de interpretar, de esta forma podemos identificar de una primera aproximación cuales son las variables que toman mayor relevancia. \n",
    "Los hiperparámetros seleccionados para este modelo son los siguientes:\n",
    "- max_depth = 5\n",
    "- criterion = 'gini'\n",
    "\n",
    "La información de hiperparámetros se obtuvo de la documentación de sklearn: https://scikit-learn.org/stable/modules/generated/sklearn.tree.DecisionTreeClassifier.html\n",
    "\n",
    "En cuanto a los valores seleccionados, el `max_depth` se seleccionó en 5 para evitar el sobreajuste del modelo, y el `criterion` se seleccionó en 'gini' ya que es el valor por defecto."
   ]
  },
  {
   "cell_type": "code",
   "execution_count": null,
   "metadata": {},
   "outputs": [
    {
     "name": "stdout",
     "output_type": "stream",
     "text": [
      "Matriz de confusión:\n",
      "[[3577 1332]\n",
      " [1877 4021]]\n"
     ]
    }
   ],
   "source": [
    "tree_model = tree.DecisionTreeClassifier(max_depth=5, criterion='gini', random_state=42)\n",
    "tree_model.fit(X_train, y_train)"
   ]
  },
  {
   "cell_type": "markdown",
   "metadata": {},
   "source": [
    "**Segundo modelo escogido**: El segundo modelo elegido corresponde a un Random Forest. Se escogió este modelo debido a que es un modelo que combina múltiples árboles de decisión, lo que permite mejorar la precisión y evitar el sobreajuste del modelo anterior, de esta forma podemos hacer una comparación directa entre un árbol de decisión y un muchos árboles de decisión aplicados en un Random Forest.\n",
    "\n",
    "Los hiperparámetros seleccionados para este modelo son los siguientes:\n",
    "- n_estimators = 100\n",
    "- max_depth = 5\n",
    "- criterion = 'gini'\n",
    "\n",
    "La información de hiperparámetros se obtuvo de la documentación de sklearn: https://scikit-learn.org/1.5/modules/generated/sklearn.ensemble.RandomForestClassifier.html\n",
    "\n",
    "En cuanto a los valores seleccionados, el `n_estimators` se seleccionó en 100 para tener un número suficiente de árboles en el bosque, el `max_depth` y el `criterion` se seleccionaron en los mismos valores que el árbol de decisión anterior para poder hacer una comparación directa."
   ]
  },
  {
   "cell_type": "code",
   "execution_count": 25,
   "metadata": {},
   "outputs": [],
   "source": [
    "rforest_model = RandomForestClassifier(n_estimators=100, max_depth=5, criterion='gini', random_state=42)\n",
    "rforest_model.fit(X_train, y_train)\n",
    "\n",
    "# Predicciones\n",
    "y_pred = rforest_model.predict(X_test)"
   ]
  },
  {
   "cell_type": "markdown",
   "metadata": {},
   "source": [
    "**Tercer modelo escogido**: El tercer modelo elegido corresponde a un KNeighborsClassifier. Se escogió este modelo debido a que es un modelo simple y matemáticamente mucho más sencillo que el SVM, de esta forma podemos ejemplificar un modelo de clasificación que no es un árbol de decisión.\n",
    "\n",
    "Los hiperparámetros seleccionados para este modelo son los siguientes:\n",
    "- n_neighbors = 5\n",
    "- weights = 'uniform'\n",
    "\n",
    "La información de hiperparámetros se obtuvo de la documentación de sklearn: https://scikit-learn.org/stable/modules/generated/sklearn.neighbors.KNeighborsClassifier.html\n",
    "\n",
    "En cuanto a los valores seleccionados, el `n_neighbors` se seleccionó en 5 para tener un número suficiente de vecinos, y el `weights` se seleccionó en 'uniform' ya que es el valor por defecto."
   ]
  },
  {
   "cell_type": "code",
   "execution_count": 28,
   "metadata": {},
   "outputs": [
    {
     "data": {
      "text/html": [
       "<style>#sk-container-id-5 {\n",
       "  /* Definition of color scheme common for light and dark mode */\n",
       "  --sklearn-color-text: black;\n",
       "  --sklearn-color-line: gray;\n",
       "  /* Definition of color scheme for unfitted estimators */\n",
       "  --sklearn-color-unfitted-level-0: #fff5e6;\n",
       "  --sklearn-color-unfitted-level-1: #f6e4d2;\n",
       "  --sklearn-color-unfitted-level-2: #ffe0b3;\n",
       "  --sklearn-color-unfitted-level-3: chocolate;\n",
       "  /* Definition of color scheme for fitted estimators */\n",
       "  --sklearn-color-fitted-level-0: #f0f8ff;\n",
       "  --sklearn-color-fitted-level-1: #d4ebff;\n",
       "  --sklearn-color-fitted-level-2: #b3dbfd;\n",
       "  --sklearn-color-fitted-level-3: cornflowerblue;\n",
       "\n",
       "  /* Specific color for light theme */\n",
       "  --sklearn-color-text-on-default-background: var(--sg-text-color, var(--theme-code-foreground, var(--jp-content-font-color1, black)));\n",
       "  --sklearn-color-background: var(--sg-background-color, var(--theme-background, var(--jp-layout-color0, white)));\n",
       "  --sklearn-color-border-box: var(--sg-text-color, var(--theme-code-foreground, var(--jp-content-font-color1, black)));\n",
       "  --sklearn-color-icon: #696969;\n",
       "\n",
       "  @media (prefers-color-scheme: dark) {\n",
       "    /* Redefinition of color scheme for dark theme */\n",
       "    --sklearn-color-text-on-default-background: var(--sg-text-color, var(--theme-code-foreground, var(--jp-content-font-color1, white)));\n",
       "    --sklearn-color-background: var(--sg-background-color, var(--theme-background, var(--jp-layout-color0, #111)));\n",
       "    --sklearn-color-border-box: var(--sg-text-color, var(--theme-code-foreground, var(--jp-content-font-color1, white)));\n",
       "    --sklearn-color-icon: #878787;\n",
       "  }\n",
       "}\n",
       "\n",
       "#sk-container-id-5 {\n",
       "  color: var(--sklearn-color-text);\n",
       "}\n",
       "\n",
       "#sk-container-id-5 pre {\n",
       "  padding: 0;\n",
       "}\n",
       "\n",
       "#sk-container-id-5 input.sk-hidden--visually {\n",
       "  border: 0;\n",
       "  clip: rect(1px 1px 1px 1px);\n",
       "  clip: rect(1px, 1px, 1px, 1px);\n",
       "  height: 1px;\n",
       "  margin: -1px;\n",
       "  overflow: hidden;\n",
       "  padding: 0;\n",
       "  position: absolute;\n",
       "  width: 1px;\n",
       "}\n",
       "\n",
       "#sk-container-id-5 div.sk-dashed-wrapped {\n",
       "  border: 1px dashed var(--sklearn-color-line);\n",
       "  margin: 0 0.4em 0.5em 0.4em;\n",
       "  box-sizing: border-box;\n",
       "  padding-bottom: 0.4em;\n",
       "  background-color: var(--sklearn-color-background);\n",
       "}\n",
       "\n",
       "#sk-container-id-5 div.sk-container {\n",
       "  /* jupyter's `normalize.less` sets `[hidden] { display: none; }`\n",
       "     but bootstrap.min.css set `[hidden] { display: none !important; }`\n",
       "     so we also need the `!important` here to be able to override the\n",
       "     default hidden behavior on the sphinx rendered scikit-learn.org.\n",
       "     See: https://github.com/scikit-learn/scikit-learn/issues/21755 */\n",
       "  display: inline-block !important;\n",
       "  position: relative;\n",
       "}\n",
       "\n",
       "#sk-container-id-5 div.sk-text-repr-fallback {\n",
       "  display: none;\n",
       "}\n",
       "\n",
       "div.sk-parallel-item,\n",
       "div.sk-serial,\n",
       "div.sk-item {\n",
       "  /* draw centered vertical line to link estimators */\n",
       "  background-image: linear-gradient(var(--sklearn-color-text-on-default-background), var(--sklearn-color-text-on-default-background));\n",
       "  background-size: 2px 100%;\n",
       "  background-repeat: no-repeat;\n",
       "  background-position: center center;\n",
       "}\n",
       "\n",
       "/* Parallel-specific style estimator block */\n",
       "\n",
       "#sk-container-id-5 div.sk-parallel-item::after {\n",
       "  content: \"\";\n",
       "  width: 100%;\n",
       "  border-bottom: 2px solid var(--sklearn-color-text-on-default-background);\n",
       "  flex-grow: 1;\n",
       "}\n",
       "\n",
       "#sk-container-id-5 div.sk-parallel {\n",
       "  display: flex;\n",
       "  align-items: stretch;\n",
       "  justify-content: center;\n",
       "  background-color: var(--sklearn-color-background);\n",
       "  position: relative;\n",
       "}\n",
       "\n",
       "#sk-container-id-5 div.sk-parallel-item {\n",
       "  display: flex;\n",
       "  flex-direction: column;\n",
       "}\n",
       "\n",
       "#sk-container-id-5 div.sk-parallel-item:first-child::after {\n",
       "  align-self: flex-end;\n",
       "  width: 50%;\n",
       "}\n",
       "\n",
       "#sk-container-id-5 div.sk-parallel-item:last-child::after {\n",
       "  align-self: flex-start;\n",
       "  width: 50%;\n",
       "}\n",
       "\n",
       "#sk-container-id-5 div.sk-parallel-item:only-child::after {\n",
       "  width: 0;\n",
       "}\n",
       "\n",
       "/* Serial-specific style estimator block */\n",
       "\n",
       "#sk-container-id-5 div.sk-serial {\n",
       "  display: flex;\n",
       "  flex-direction: column;\n",
       "  align-items: center;\n",
       "  background-color: var(--sklearn-color-background);\n",
       "  padding-right: 1em;\n",
       "  padding-left: 1em;\n",
       "}\n",
       "\n",
       "\n",
       "/* Toggleable style: style used for estimator/Pipeline/ColumnTransformer box that is\n",
       "clickable and can be expanded/collapsed.\n",
       "- Pipeline and ColumnTransformer use this feature and define the default style\n",
       "- Estimators will overwrite some part of the style using the `sk-estimator` class\n",
       "*/\n",
       "\n",
       "/* Pipeline and ColumnTransformer style (default) */\n",
       "\n",
       "#sk-container-id-5 div.sk-toggleable {\n",
       "  /* Default theme specific background. It is overwritten whether we have a\n",
       "  specific estimator or a Pipeline/ColumnTransformer */\n",
       "  background-color: var(--sklearn-color-background);\n",
       "}\n",
       "\n",
       "/* Toggleable label */\n",
       "#sk-container-id-5 label.sk-toggleable__label {\n",
       "  cursor: pointer;\n",
       "  display: block;\n",
       "  width: 100%;\n",
       "  margin-bottom: 0;\n",
       "  padding: 0.5em;\n",
       "  box-sizing: border-box;\n",
       "  text-align: center;\n",
       "}\n",
       "\n",
       "#sk-container-id-5 label.sk-toggleable__label-arrow:before {\n",
       "  /* Arrow on the left of the label */\n",
       "  content: \"▸\";\n",
       "  float: left;\n",
       "  margin-right: 0.25em;\n",
       "  color: var(--sklearn-color-icon);\n",
       "}\n",
       "\n",
       "#sk-container-id-5 label.sk-toggleable__label-arrow:hover:before {\n",
       "  color: var(--sklearn-color-text);\n",
       "}\n",
       "\n",
       "/* Toggleable content - dropdown */\n",
       "\n",
       "#sk-container-id-5 div.sk-toggleable__content {\n",
       "  max-height: 0;\n",
       "  max-width: 0;\n",
       "  overflow: hidden;\n",
       "  text-align: left;\n",
       "  /* unfitted */\n",
       "  background-color: var(--sklearn-color-unfitted-level-0);\n",
       "}\n",
       "\n",
       "#sk-container-id-5 div.sk-toggleable__content.fitted {\n",
       "  /* fitted */\n",
       "  background-color: var(--sklearn-color-fitted-level-0);\n",
       "}\n",
       "\n",
       "#sk-container-id-5 div.sk-toggleable__content pre {\n",
       "  margin: 0.2em;\n",
       "  border-radius: 0.25em;\n",
       "  color: var(--sklearn-color-text);\n",
       "  /* unfitted */\n",
       "  background-color: var(--sklearn-color-unfitted-level-0);\n",
       "}\n",
       "\n",
       "#sk-container-id-5 div.sk-toggleable__content.fitted pre {\n",
       "  /* unfitted */\n",
       "  background-color: var(--sklearn-color-fitted-level-0);\n",
       "}\n",
       "\n",
       "#sk-container-id-5 input.sk-toggleable__control:checked~div.sk-toggleable__content {\n",
       "  /* Expand drop-down */\n",
       "  max-height: 200px;\n",
       "  max-width: 100%;\n",
       "  overflow: auto;\n",
       "}\n",
       "\n",
       "#sk-container-id-5 input.sk-toggleable__control:checked~label.sk-toggleable__label-arrow:before {\n",
       "  content: \"▾\";\n",
       "}\n",
       "\n",
       "/* Pipeline/ColumnTransformer-specific style */\n",
       "\n",
       "#sk-container-id-5 div.sk-label input.sk-toggleable__control:checked~label.sk-toggleable__label {\n",
       "  color: var(--sklearn-color-text);\n",
       "  background-color: var(--sklearn-color-unfitted-level-2);\n",
       "}\n",
       "\n",
       "#sk-container-id-5 div.sk-label.fitted input.sk-toggleable__control:checked~label.sk-toggleable__label {\n",
       "  background-color: var(--sklearn-color-fitted-level-2);\n",
       "}\n",
       "\n",
       "/* Estimator-specific style */\n",
       "\n",
       "/* Colorize estimator box */\n",
       "#sk-container-id-5 div.sk-estimator input.sk-toggleable__control:checked~label.sk-toggleable__label {\n",
       "  /* unfitted */\n",
       "  background-color: var(--sklearn-color-unfitted-level-2);\n",
       "}\n",
       "\n",
       "#sk-container-id-5 div.sk-estimator.fitted input.sk-toggleable__control:checked~label.sk-toggleable__label {\n",
       "  /* fitted */\n",
       "  background-color: var(--sklearn-color-fitted-level-2);\n",
       "}\n",
       "\n",
       "#sk-container-id-5 div.sk-label label.sk-toggleable__label,\n",
       "#sk-container-id-5 div.sk-label label {\n",
       "  /* The background is the default theme color */\n",
       "  color: var(--sklearn-color-text-on-default-background);\n",
       "}\n",
       "\n",
       "/* On hover, darken the color of the background */\n",
       "#sk-container-id-5 div.sk-label:hover label.sk-toggleable__label {\n",
       "  color: var(--sklearn-color-text);\n",
       "  background-color: var(--sklearn-color-unfitted-level-2);\n",
       "}\n",
       "\n",
       "/* Label box, darken color on hover, fitted */\n",
       "#sk-container-id-5 div.sk-label.fitted:hover label.sk-toggleable__label.fitted {\n",
       "  color: var(--sklearn-color-text);\n",
       "  background-color: var(--sklearn-color-fitted-level-2);\n",
       "}\n",
       "\n",
       "/* Estimator label */\n",
       "\n",
       "#sk-container-id-5 div.sk-label label {\n",
       "  font-family: monospace;\n",
       "  font-weight: bold;\n",
       "  display: inline-block;\n",
       "  line-height: 1.2em;\n",
       "}\n",
       "\n",
       "#sk-container-id-5 div.sk-label-container {\n",
       "  text-align: center;\n",
       "}\n",
       "\n",
       "/* Estimator-specific */\n",
       "#sk-container-id-5 div.sk-estimator {\n",
       "  font-family: monospace;\n",
       "  border: 1px dotted var(--sklearn-color-border-box);\n",
       "  border-radius: 0.25em;\n",
       "  box-sizing: border-box;\n",
       "  margin-bottom: 0.5em;\n",
       "  /* unfitted */\n",
       "  background-color: var(--sklearn-color-unfitted-level-0);\n",
       "}\n",
       "\n",
       "#sk-container-id-5 div.sk-estimator.fitted {\n",
       "  /* fitted */\n",
       "  background-color: var(--sklearn-color-fitted-level-0);\n",
       "}\n",
       "\n",
       "/* on hover */\n",
       "#sk-container-id-5 div.sk-estimator:hover {\n",
       "  /* unfitted */\n",
       "  background-color: var(--sklearn-color-unfitted-level-2);\n",
       "}\n",
       "\n",
       "#sk-container-id-5 div.sk-estimator.fitted:hover {\n",
       "  /* fitted */\n",
       "  background-color: var(--sklearn-color-fitted-level-2);\n",
       "}\n",
       "\n",
       "/* Specification for estimator info (e.g. \"i\" and \"?\") */\n",
       "\n",
       "/* Common style for \"i\" and \"?\" */\n",
       "\n",
       ".sk-estimator-doc-link,\n",
       "a:link.sk-estimator-doc-link,\n",
       "a:visited.sk-estimator-doc-link {\n",
       "  float: right;\n",
       "  font-size: smaller;\n",
       "  line-height: 1em;\n",
       "  font-family: monospace;\n",
       "  background-color: var(--sklearn-color-background);\n",
       "  border-radius: 1em;\n",
       "  height: 1em;\n",
       "  width: 1em;\n",
       "  text-decoration: none !important;\n",
       "  margin-left: 1ex;\n",
       "  /* unfitted */\n",
       "  border: var(--sklearn-color-unfitted-level-1) 1pt solid;\n",
       "  color: var(--sklearn-color-unfitted-level-1);\n",
       "}\n",
       "\n",
       ".sk-estimator-doc-link.fitted,\n",
       "a:link.sk-estimator-doc-link.fitted,\n",
       "a:visited.sk-estimator-doc-link.fitted {\n",
       "  /* fitted */\n",
       "  border: var(--sklearn-color-fitted-level-1) 1pt solid;\n",
       "  color: var(--sklearn-color-fitted-level-1);\n",
       "}\n",
       "\n",
       "/* On hover */\n",
       "div.sk-estimator:hover .sk-estimator-doc-link:hover,\n",
       ".sk-estimator-doc-link:hover,\n",
       "div.sk-label-container:hover .sk-estimator-doc-link:hover,\n",
       ".sk-estimator-doc-link:hover {\n",
       "  /* unfitted */\n",
       "  background-color: var(--sklearn-color-unfitted-level-3);\n",
       "  color: var(--sklearn-color-background);\n",
       "  text-decoration: none;\n",
       "}\n",
       "\n",
       "div.sk-estimator.fitted:hover .sk-estimator-doc-link.fitted:hover,\n",
       ".sk-estimator-doc-link.fitted:hover,\n",
       "div.sk-label-container:hover .sk-estimator-doc-link.fitted:hover,\n",
       ".sk-estimator-doc-link.fitted:hover {\n",
       "  /* fitted */\n",
       "  background-color: var(--sklearn-color-fitted-level-3);\n",
       "  color: var(--sklearn-color-background);\n",
       "  text-decoration: none;\n",
       "}\n",
       "\n",
       "/* Span, style for the box shown on hovering the info icon */\n",
       ".sk-estimator-doc-link span {\n",
       "  display: none;\n",
       "  z-index: 9999;\n",
       "  position: relative;\n",
       "  font-weight: normal;\n",
       "  right: .2ex;\n",
       "  padding: .5ex;\n",
       "  margin: .5ex;\n",
       "  width: min-content;\n",
       "  min-width: 20ex;\n",
       "  max-width: 50ex;\n",
       "  color: var(--sklearn-color-text);\n",
       "  box-shadow: 2pt 2pt 4pt #999;\n",
       "  /* unfitted */\n",
       "  background: var(--sklearn-color-unfitted-level-0);\n",
       "  border: .5pt solid var(--sklearn-color-unfitted-level-3);\n",
       "}\n",
       "\n",
       ".sk-estimator-doc-link.fitted span {\n",
       "  /* fitted */\n",
       "  background: var(--sklearn-color-fitted-level-0);\n",
       "  border: var(--sklearn-color-fitted-level-3);\n",
       "}\n",
       "\n",
       ".sk-estimator-doc-link:hover span {\n",
       "  display: block;\n",
       "}\n",
       "\n",
       "/* \"?\"-specific style due to the `<a>` HTML tag */\n",
       "\n",
       "#sk-container-id-5 a.estimator_doc_link {\n",
       "  float: right;\n",
       "  font-size: 1rem;\n",
       "  line-height: 1em;\n",
       "  font-family: monospace;\n",
       "  background-color: var(--sklearn-color-background);\n",
       "  border-radius: 1rem;\n",
       "  height: 1rem;\n",
       "  width: 1rem;\n",
       "  text-decoration: none;\n",
       "  /* unfitted */\n",
       "  color: var(--sklearn-color-unfitted-level-1);\n",
       "  border: var(--sklearn-color-unfitted-level-1) 1pt solid;\n",
       "}\n",
       "\n",
       "#sk-container-id-5 a.estimator_doc_link.fitted {\n",
       "  /* fitted */\n",
       "  border: var(--sklearn-color-fitted-level-1) 1pt solid;\n",
       "  color: var(--sklearn-color-fitted-level-1);\n",
       "}\n",
       "\n",
       "/* On hover */\n",
       "#sk-container-id-5 a.estimator_doc_link:hover {\n",
       "  /* unfitted */\n",
       "  background-color: var(--sklearn-color-unfitted-level-3);\n",
       "  color: var(--sklearn-color-background);\n",
       "  text-decoration: none;\n",
       "}\n",
       "\n",
       "#sk-container-id-5 a.estimator_doc_link.fitted:hover {\n",
       "  /* fitted */\n",
       "  background-color: var(--sklearn-color-fitted-level-3);\n",
       "}\n",
       "</style><div id=\"sk-container-id-5\" class=\"sk-top-container\"><div class=\"sk-text-repr-fallback\"><pre>KNeighborsClassifier()</pre><b>In a Jupyter environment, please rerun this cell to show the HTML representation or trust the notebook. <br />On GitHub, the HTML representation is unable to render, please try loading this page with nbviewer.org.</b></div><div class=\"sk-container\" hidden><div class=\"sk-item\"><div class=\"sk-estimator fitted sk-toggleable\"><input class=\"sk-toggleable__control sk-hidden--visually\" id=\"sk-estimator-id-5\" type=\"checkbox\" checked><label for=\"sk-estimator-id-5\" class=\"sk-toggleable__label fitted sk-toggleable__label-arrow fitted\">&nbsp;&nbsp;KNeighborsClassifier<a class=\"sk-estimator-doc-link fitted\" rel=\"noreferrer\" target=\"_blank\" href=\"https://scikit-learn.org/1.5/modules/generated/sklearn.neighbors.KNeighborsClassifier.html\">?<span>Documentation for KNeighborsClassifier</span></a><span class=\"sk-estimator-doc-link fitted\">i<span>Fitted</span></span></label><div class=\"sk-toggleable__content fitted\"><pre>KNeighborsClassifier()</pre></div> </div></div></div></div>"
      ],
      "text/plain": [
       "KNeighborsClassifier()"
      ]
     },
     "execution_count": 28,
     "metadata": {},
     "output_type": "execute_result"
    }
   ],
   "source": [
    "kkn_model = KNeighborsClassifier(n_neighbors=5, weights='uniform')\n",
    "kkn_model.fit(X_train, y_train)"
   ]
  },
  {
   "cell_type": "markdown",
   "metadata": {},
   "source": [
    "---\n",
    "---"
   ]
  },
  {
   "cell_type": "markdown",
   "metadata": {},
   "source": [
    "<div style=\"text-align: center;\">\n",
    "  <h3>Evaluación de Modelos</h3>\n",
    "</div>"
   ]
  },
  {
   "cell_type": "markdown",
   "metadata": {},
   "source": [
    "---"
   ]
  },
  {
   "cell_type": "markdown",
   "metadata": {},
   "source": [
    "A continuación debes evaluar los modelos entrenados en la sección anterior. Para esto debes utilizar las\n",
    "siguientes métricas (se recomienda utilizar las métricas ya implementadas en las librerías):\n",
    "- *Accuracy*\n",
    "- *Precision*\n",
    "- *Recall*\n",
    "- *F1-score*\n"
   ]
  },
  {
   "cell_type": "markdown",
   "metadata": {},
   "source": [
    "Explica brevemente que indica cada una de estas métricas en general. Luego, calcula estas métricas y muestra la matriz de confusión para cada modelo."
   ]
  },
  {
   "cell_type": "markdown",
   "metadata": {},
   "source": [
    "**RESPUESTA**: En particular cada una de las métricas mencionadas se definen de la siguiente manera:\n",
    "- *Accuracy*: Es la proporción de predicciones correctas sobre el total de predicciones realizadas.\n",
    "- *Precision*: Es la proporción de predicciones correctas de la clase positiva sobre el total de predicciones de la clase positiva.\n",
    "- *Recall*: Es la proporción de predicciones correctas de la clase positiva sobre el total de instancias que realmente son de la clase positiva.\n",
    "- *F1-score*: Es la media armónica entre precision y recall, es decir, es una medida que combina ambas métricas."
   ]
  },
  {
   "cell_type": "markdown",
   "metadata": {},
   "source": [
    "**Evaluación primer modelo escogido**: Decision Tree"
   ]
  },
  {
   "cell_type": "code",
   "execution_count": 41,
   "metadata": {},
   "outputs": [
    {
     "name": "stdout",
     "output_type": "stream",
     "text": [
      "Accuracy: 0.7030628296474507\n",
      "              precision    recall  f1-score   support\n",
      "\n",
      "           0       0.66      0.73      0.69      4909\n",
      "           1       0.75      0.68      0.71      5898\n",
      "\n",
      "    accuracy                           0.70     10807\n",
      "   macro avg       0.70      0.71      0.70     10807\n",
      "weighted avg       0.71      0.70      0.70     10807\n",
      "\n"
     ]
    },
    {
     "data": {
      "image/png": "[encoded data removed]",
      "text/plain": [
       "<Figure size 640x480 with 2 Axes>"
      ]
     },
     "metadata": {},
     "output_type": "display_data"
    }
   ],
   "source": [
    "# Predicciones\n",
    "y_pred = tree_model.predict(X_test)\n",
    "\n",
    "# Accuracy\n",
    "print(f\"Accuracy: {tree_model.score(X_test, y_test)}\")\n",
    "\n",
    "# Precision, Recall, F1-Score\n",
    "print(classification_report(y_test, y_pred))\n",
    "\n",
    "# Matriz de confusión\n",
    "matrix = confusion_matrix(y_test, y_pred)\n",
    "sns.heatmap(matrix, annot=True, fmt='d')\n",
    "plt.show()"
   ]
  },
  {
   "cell_type": "markdown",
   "metadata": {},
   "source": [
    "**Evaluación segundo modelo escogido**: Random Forest"
   ]
  },
  {
   "cell_type": "code",
   "execution_count": 45,
   "metadata": {},
   "outputs": [
    {
     "name": "stdout",
     "output_type": "stream",
     "text": [
      "Accuracy: 0.8081798834089017\n",
      "              precision    recall  f1-score   support\n",
      "\n",
      "           0       0.79      0.78      0.79      4909\n",
      "           1       0.82      0.83      0.83      5898\n",
      "\n",
      "    accuracy                           0.81     10807\n",
      "   macro avg       0.81      0.81      0.81     10807\n",
      "weighted avg       0.81      0.81      0.81     10807\n",
      "\n"
     ]
    },
    {
     "data": {
      "image/png": "[encoded data removed]",
      "text/plain": [
       "<Figure size 640x480 with 2 Axes>"
      ]
     },
     "metadata": {},
     "output_type": "display_data"
    }
   ],
   "source": [
    "# Predicciones\n",
    "y_pred = rforest_model.predict(X_test)\n",
    "\n",
    "# Accuracy\n",
    "print(f\"Accuracy: {rforest_model.score(X_test, y_test)}\")\n",
    "\n",
    "# Precision, Recall, F1-Score\n",
    "print(classification_report(y_test, y_pred))\n",
    "\n",
    "# Matriz de confusión\n",
    "matrix = confusion_matrix(y_test, y_pred)\n",
    "sns.heatmap(matrix, annot=True, fmt='d')\n",
    "plt.show()"
   ]
  },
  {
   "cell_type": "markdown",
   "metadata": {},
   "source": [
    "**Evaluación tercer modelo escogido**: KKN"
   ]
  },
  {
   "cell_type": "code",
   "execution_count": null,
   "metadata": {},
   "outputs": [
    {
     "name": "stdout",
     "output_type": "stream",
     "text": [
      "Accuracy: 0.7163875266031277\n",
      "              precision    recall  f1-score   support\n",
      "\n",
      "           0       0.69      0.69      0.69      4909\n",
      "           1       0.74      0.74      0.74      5898\n",
      "\n",
      "    accuracy                           0.72     10807\n",
      "   macro avg       0.71      0.71      0.71     10807\n",
      "weighted avg       0.72      0.72      0.72     10807\n",
      "\n"
     ]
    },
    {
     "data": {
      "image/png": "[encoded data removed]",
      "text/plain": [
       "<Figure size 640x480 with 2 Axes>"
      ]
     },
     "metadata": {},
     "output_type": "display_data"
    }
   ],
   "source": [
    "# Predicciones\n",
    "y_pred = kkn_model.predict(X_test)\n",
    "\n",
    "# Accuracy\n",
    "print(f\"Accuracy: {kkn_model.score(X_test, y_test)}\")\n",
    "\n",
    "# Precision, Recall, F1-score\n",
    "print(classification_report(y_test, y_pred))\n",
    "\n",
    "# Matriz de confusión\n",
    "matrix = confusion_matrix(y_test, y_pred)\n",
    "sns.heatmap(matrix, annot=True, fmt='d')\n",
    "plt.show()"
   ]
  },
  {
   "cell_type": "markdown",
   "metadata": {},
   "source": [
    "---"
   ]
  },
  {
   "cell_type": "markdown",
   "metadata": {},
   "source": [
    "\n",
    "Responde a la siguiente pregunta: ¿Si queremos evitar clasificar mal los hongos venenosos en qué debemos fijarnos? Discute sobre las implicaciones de los errores de tipo 1 y tipo 2 en el contexto de este problema (considera el contexto inicial)."
   ]
  },
  {
   "cell_type": "markdown",
   "metadata": {},
   "source": [
    "**RESPUESTA**: Dado que un hongo es clasificado como venenoso si la columna `class` es igual a 1, debemos fijarnos en la métrica de `Recall`, ya que esta métrica nos indica la proporción de hongos venenosos (1) que fueron correctamente clasificados como tal. De esta forma, esta es la métrica que nos permitirá evitar clasificar mal los hongos venenosos.\n",
    "\n",
    "En el contexto de este problema, los errores de tipo 1 y tipo 2 se traducen en los siguientes escenarios:\n",
    "\n",
    "- Error de tipo 1: Clasificar un hongo como venenoso cuando en realidad es comestible. Para este caso este escenario no supondría una situación de riesgo, ya que se estaría evitando consumir un hongo que en realidad es comestible.\n",
    "\n",
    "- Error de tipo 2: Clasificar un hongo como comestible cuando en realidad es venenoso. Para este caso este escenario supondría una situación de riesgo, ya que se estaría consumiendo un hongo que en realidad es venenoso.\n",
    "\n",
    "Por lo que para este caso, es más importante evitar el error de tipo 2, ya que este escenario supondría un riesgo mucho mayor."
   ]
  },
  {
   "cell_type": "markdown",
   "metadata": {},
   "source": [
    "---"
   ]
  },
  {
   "cell_type": "markdown",
   "metadata": {},
   "source": [
    "Por último, basado en lo anterior decide cual de los tres modelos es el que obtiene los mejores resultados para este problema en particular y explica porque este puede haber funcionado mejor en este caso. Para esto habla sobre los aspectos puntuales del algoritmo que pueden haber ayudado."
   ]
  },
  {
   "cell_type": "markdown",
   "metadata": {},
   "source": [
    "**RESPUESTA**: Basándonos en las métricas obtenidas, el modelo que obtiene los mejores resultados en cuanto al objetivo de minimizar errores del tipo II, es el modelo de Random Forest, ya que obtiene 999 casos del tipo 2 en contraste a los 1552 y 1877 de los otros modelos.\n",
    "\n",
    "Esto en particular se explica debido a que el algoritmo de Random Forest es un algoritmo que combina múltiples árboles de decisión, lo que permite mejorar la precisión y evitar el sobreajuste del modelo, de esta forma, al combinar múltiples árboles de decisión, se obtiene un modelo más robusto y con mejor capacidad de generalización, además destaca sobre el modelo de kkn ya que este último es un modelo muchos más simple y suscetible a ruido en los datos no relevante para la clasificación."
   ]
  }
 ],
 "metadata": {
  "kernelspec": {
   "display_name": "venv",
   "language": "python",
   "name": "python3"
  },
  "language_info": {
   "codemirror_mode": {
    "name": "ipython",
    "version": 3
   },
   "file_extension": ".py",
   "mimetype": "text/x-python",
   "name": "python",
   "nbconvert_exporter": "python",
   "pygments_lexer": "ipython3",
   "version": "3.13.0"
  }
 },
 "nbformat": 4,
 "nbformat_minor": 2
}
